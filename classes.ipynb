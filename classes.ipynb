{
 "cells": [
  {
   "cell_type": "markdown",
   "id": "dce799cc",
   "metadata": {},
   "source": [
    "Code Warm-up: \n",
    "\n",
    "Take the following 2 lists and write a program that returns a list that contains only the elements that are common between the 2 lists (without duplicates).\n",
    "\n",
    "thor_2_cast = ['Chris Hemsworth', 'Natalie Portman', 'Tom Hiddleston', 'Kat Dennings', 'Anthony Hopkins',\n",
    "               'Jaimie Alexander', 'Idris Elba']\n",
    "ragnarok_cast = ['Chris Hemsworth', 'Tessa Thompson', 'Cate Blanchett', 'Tom Hiddleston', 'Mark Ruffalo', \n",
    "                 'Jeff Goldblum', 'Karl Urban', 'Idris Elba', 'Anthony Hopkins']"
   ]
  },
  {
   "cell_type": "code",
   "execution_count": 1,
   "id": "72f795de",
   "metadata": {},
   "outputs": [],
   "source": [
    "lis = [2, 3, 2, 5, 3, 7, 2]"
   ]
  },
  {
   "cell_type": "code",
   "execution_count": 2,
   "id": "5112fba4",
   "metadata": {},
   "outputs": [
    {
     "data": {
      "text/plain": [
       "{2, 3, 5, 7}"
      ]
     },
     "execution_count": 2,
     "metadata": {},
     "output_type": "execute_result"
    }
   ],
   "source": [
    "set(lis)"
   ]
  },
  {
   "cell_type": "code",
   "execution_count": 11,
   "id": "1778f9b4",
   "metadata": {},
   "outputs": [],
   "source": [
    "def find_common(lis1, lis2):\n",
    "    return list(set(lis1).intersection(set(lis2)))"
   ]
  },
  {
   "cell_type": "code",
   "execution_count": 12,
   "id": "7080fa78",
   "metadata": {},
   "outputs": [],
   "source": [
    "thor_2_cast = ['Chris Hemsworth', 'Natalie Portman', 'Tom Hiddleston', 'Kat Dennings', 'Anthony Hopkins', 'Jaimie Alexander', 'Idris Elba'] \n",
    "ragnarok_cast = ['Chris Hemsworth', 'Tessa Thompson', 'Cate Blanchett', 'Tom Hiddleston', 'Mark Ruffalo', 'Jeff Goldblum', 'Karl Urban', 'Idris Elba', 'Anthony Hopkins']"
   ]
  },
  {
   "cell_type": "code",
   "execution_count": 13,
   "id": "63cac7ef",
   "metadata": {},
   "outputs": [
    {
     "data": {
      "text/plain": [
       "['Anthony Hopkins', 'Chris Hemsworth', 'Idris Elba', 'Tom Hiddleston']"
      ]
     },
     "execution_count": 13,
     "metadata": {},
     "output_type": "execute_result"
    }
   ],
   "source": [
    "find_common(thor_2_cast, ragnarok_cast)"
   ]
  },
  {
   "cell_type": "code",
   "execution_count": null,
   "id": "43607b00",
   "metadata": {},
   "outputs": [],
   "source": []
  },
  {
   "cell_type": "code",
   "execution_count": null,
   "id": "f7fedc2f",
   "metadata": {},
   "outputs": [],
   "source": []
  },
  {
   "cell_type": "code",
   "execution_count": null,
   "id": "c53a9f57",
   "metadata": {},
   "outputs": [],
   "source": []
  },
  {
   "cell_type": "code",
   "execution_count": 5,
   "id": "deb839ca",
   "metadata": {},
   "outputs": [
    {
     "data": {
      "text/plain": [
       "{'Anthony Hopkins',\n",
       " 'Chris Hemsworth',\n",
       " 'Idris Elba',\n",
       " 'Jaimie Alexander',\n",
       " 'Kat Dennings',\n",
       " 'Natalie Portman',\n",
       " 'Tom Hiddleston'}"
      ]
     },
     "execution_count": 5,
     "metadata": {},
     "output_type": "execute_result"
    }
   ],
   "source": [
    "set(thor_2_cast)"
   ]
  },
  {
   "cell_type": "code",
   "execution_count": 6,
   "id": "6bc3e3ab",
   "metadata": {},
   "outputs": [
    {
     "data": {
      "text/plain": [
       "{'Anthony Hopkins',\n",
       " 'Cate Blanchett',\n",
       " 'Chris Hemsworth',\n",
       " 'Idris Elba',\n",
       " 'Jeff Goldblum',\n",
       " 'Karl Urban',\n",
       " 'Mark Ruffalo',\n",
       " 'Tessa Thompson',\n",
       " 'Tom Hiddleston'}"
      ]
     },
     "execution_count": 6,
     "metadata": {},
     "output_type": "execute_result"
    }
   ],
   "source": [
    "set(ragnarok_cast)"
   ]
  },
  {
   "cell_type": "code",
   "execution_count": 7,
   "id": "0f4831a9",
   "metadata": {},
   "outputs": [
    {
     "data": {
      "text/plain": [
       "{'Anthony Hopkins', 'Chris Hemsworth', 'Idris Elba', 'Tom Hiddleston'}"
      ]
     },
     "execution_count": 7,
     "metadata": {},
     "output_type": "execute_result"
    }
   ],
   "source": [
    "set(thor_2_cast).intersection(set(ragnarok_cast))"
   ]
  },
  {
   "cell_type": "code",
   "execution_count": null,
   "id": "25908ce0",
   "metadata": {},
   "outputs": [],
   "source": []
  },
  {
   "cell_type": "code",
   "execution_count": null,
   "id": "8904ef3c",
   "metadata": {},
   "outputs": [],
   "source": []
  },
  {
   "cell_type": "code",
   "execution_count": null,
   "id": "02efc326",
   "metadata": {},
   "outputs": [],
   "source": []
  },
  {
   "cell_type": "code",
   "execution_count": null,
   "id": "f955130a",
   "metadata": {},
   "outputs": [],
   "source": [
    "# recursive function\n",
    "# handle any number of parameters"
   ]
  },
  {
   "cell_type": "code",
   "execution_count": 16,
   "id": "ed53e960",
   "metadata": {},
   "outputs": [
    {
     "name": "stdout",
     "output_type": "stream",
     "text": [
      "10\n",
      "10\n"
     ]
    }
   ],
   "source": [
    "def max_of_two(x, y):\n",
    "    if x > y:\n",
    "        print(x)\n",
    "        return x\n",
    "        \n",
    "    return y\n",
    "\n",
    "\n",
    "def max_of_three(x, y, z):\n",
    "    return max_of_two(x, max_of_two(y, z))\n",
    "\n",
    "\n",
    "print(max_of_three(10, 5, 9))"
   ]
  },
  {
   "cell_type": "code",
   "execution_count": null,
   "id": "04e09f27",
   "metadata": {},
   "outputs": [],
   "source": [
    "def max_of_two(x, y):\n",
    "    if x > y:\n",
    "        return x\n",
    "        print(x)\n",
    "    else:\n",
    "        return y"
   ]
  },
  {
   "cell_type": "code",
   "execution_count": 15,
   "id": "f4254b52",
   "metadata": {},
   "outputs": [
    {
     "data": {
      "text/plain": [
       "6"
      ]
     },
     "execution_count": 15,
     "metadata": {},
     "output_type": "execute_result"
    }
   ],
   "source": [
    "max_of_two(6, -5)"
   ]
  },
  {
   "cell_type": "code",
   "execution_count": 18,
   "id": "747a90b9",
   "metadata": {},
   "outputs": [
    {
     "data": {
      "text/plain": [
       "32"
      ]
     },
     "execution_count": 18,
     "metadata": {},
     "output_type": "execute_result"
    }
   ],
   "source": [
    "max(10, 5, 9, 12, 32)"
   ]
  },
  {
   "cell_type": "code",
   "execution_count": 19,
   "id": "a30e29ac",
   "metadata": {},
   "outputs": [],
   "source": [
    "class car:\n",
    "    pass"
   ]
  },
  {
   "cell_type": "code",
   "execution_count": 21,
   "id": "58db8116",
   "metadata": {},
   "outputs": [],
   "source": [
    "toyota = car()\n",
    "benz = car()\n",
    "ford = car()"
   ]
  },
  {
   "cell_type": "code",
   "execution_count": 22,
   "id": "ec839ac8",
   "metadata": {},
   "outputs": [],
   "source": [
    "class car:\n",
    "    mileage = 100\n",
    "    wheel_size = 21"
   ]
  },
  {
   "cell_type": "code",
   "execution_count": 23,
   "id": "b4d1bd16",
   "metadata": {},
   "outputs": [],
   "source": [
    "toyota = car()\n",
    "benz = car()\n",
    "ford = car()"
   ]
  },
  {
   "cell_type": "code",
   "execution_count": 24,
   "id": "7a7102f8",
   "metadata": {},
   "outputs": [],
   "source": [
    "name = 'Omolewa'"
   ]
  },
  {
   "cell_type": "code",
   "execution_count": null,
   "id": "6ca2c16a",
   "metadata": {},
   "outputs": [],
   "source": [
    "name."
   ]
  },
  {
   "cell_type": "code",
   "execution_count": 28,
   "id": "177e4cee",
   "metadata": {},
   "outputs": [
    {
     "data": {
      "text/plain": [
       "100"
      ]
     },
     "execution_count": 28,
     "metadata": {},
     "output_type": "execute_result"
    }
   ],
   "source": [
    "toyota.mileage"
   ]
  },
  {
   "cell_type": "code",
   "execution_count": 29,
   "id": "325651e5",
   "metadata": {},
   "outputs": [
    {
     "data": {
      "text/plain": [
       "100"
      ]
     },
     "execution_count": 29,
     "metadata": {},
     "output_type": "execute_result"
    }
   ],
   "source": [
    "benz.mileage"
   ]
  },
  {
   "cell_type": "code",
   "execution_count": 30,
   "id": "93b7fde3",
   "metadata": {},
   "outputs": [
    {
     "data": {
      "text/plain": [
       "100"
      ]
     },
     "execution_count": 30,
     "metadata": {},
     "output_type": "execute_result"
    }
   ],
   "source": [
    "ford.mileage"
   ]
  },
  {
   "cell_type": "code",
   "execution_count": 31,
   "id": "9980fbfa",
   "metadata": {},
   "outputs": [],
   "source": [
    "toyota.mileage = 20000"
   ]
  },
  {
   "cell_type": "code",
   "execution_count": 32,
   "id": "ff9ba7a6",
   "metadata": {},
   "outputs": [
    {
     "data": {
      "text/plain": [
       "100"
      ]
     },
     "execution_count": 32,
     "metadata": {},
     "output_type": "execute_result"
    }
   ],
   "source": [
    "benz.mileage"
   ]
  },
  {
   "cell_type": "code",
   "execution_count": 33,
   "id": "503d0fb5",
   "metadata": {},
   "outputs": [
    {
     "data": {
      "text/plain": [
       "100"
      ]
     },
     "execution_count": 33,
     "metadata": {},
     "output_type": "execute_result"
    }
   ],
   "source": [
    "ford.mileage"
   ]
  },
  {
   "cell_type": "code",
   "execution_count": 34,
   "id": "ff17ea45",
   "metadata": {},
   "outputs": [
    {
     "data": {
      "text/plain": [
       "20000"
      ]
     },
     "execution_count": 34,
     "metadata": {},
     "output_type": "execute_result"
    }
   ],
   "source": [
    "toyota.mileage"
   ]
  },
  {
   "cell_type": "code",
   "execution_count": 35,
   "id": "ba0cf403",
   "metadata": {},
   "outputs": [],
   "source": [
    "class car:\n",
    "    mileage = 100\n",
    "    wheel_size = 21\n",
    "    \n",
    "    def multiply_mileage(self, mileage):\n",
    "        return mileage * 50"
   ]
  },
  {
   "cell_type": "code",
   "execution_count": 36,
   "id": "c2312480",
   "metadata": {},
   "outputs": [],
   "source": [
    "toyota = car()\n",
    "benz = car()\n",
    "ford = car()"
   ]
  },
  {
   "cell_type": "code",
   "execution_count": 37,
   "id": "f9e97800",
   "metadata": {},
   "outputs": [
    {
     "data": {
      "text/plain": [
       "50000"
      ]
     },
     "execution_count": 37,
     "metadata": {},
     "output_type": "execute_result"
    }
   ],
   "source": [
    "toyota.multiply_mileage(1000)"
   ]
  },
  {
   "cell_type": "code",
   "execution_count": 42,
   "id": "5dfb415e",
   "metadata": {},
   "outputs": [],
   "source": [
    "class Mathematics:\n",
    "    # constructor (init method)\n",
    "    def __init__(self, x, y):\n",
    "        print(f'You passed in {x} and {y}')"
   ]
  },
  {
   "cell_type": "code",
   "execution_count": 44,
   "id": "16064ffd",
   "metadata": {},
   "outputs": [
    {
     "name": "stdout",
     "output_type": "stream",
     "text": [
      "You passed in 10 and 30\n"
     ]
    },
    {
     "data": {
      "text/plain": [
       "<__main__.Mathematics at 0x19e63e84a90>"
      ]
     },
     "execution_count": 44,
     "metadata": {},
     "output_type": "execute_result"
    }
   ],
   "source": [
    "Mathematics(10, 30)"
   ]
  },
  {
   "cell_type": "code",
   "execution_count": 50,
   "id": "62b0083a",
   "metadata": {},
   "outputs": [],
   "source": [
    "class Mathematics:\n",
    "    # constructor\n",
    "    def __init__(self, x, y):\n",
    "        print(f'You passed in {x} and {y}')\n",
    "        self.fname = 'Omolewa'\n",
    "        self.lname = 'Adaramola'\n",
    "        print(self.fname, self.lname)"
   ]
  },
  {
   "cell_type": "code",
   "execution_count": 51,
   "id": "9636fd23",
   "metadata": {},
   "outputs": [
    {
     "name": "stdout",
     "output_type": "stream",
     "text": [
      "You passed in 10 and 30\n",
      "Omolewa Adaramola\n"
     ]
    }
   ],
   "source": [
    "mth = Mathematics(10, 30)"
   ]
  },
  {
   "cell_type": "code",
   "execution_count": 47,
   "id": "7faf78ed",
   "metadata": {},
   "outputs": [
    {
     "data": {
      "text/plain": [
       "'Omolewa'"
      ]
     },
     "execution_count": 47,
     "metadata": {},
     "output_type": "execute_result"
    }
   ],
   "source": [
    "mth.fname"
   ]
  },
  {
   "cell_type": "code",
   "execution_count": 60,
   "id": "6d9652fc",
   "metadata": {},
   "outputs": [],
   "source": [
    "class Mathematics:\n",
    "    # constructor\n",
    "    def __init__(self, x, y):\n",
    "        print(f'You passed in {x} and {y}')\n",
    "        self.fname = 'Omolewa'\n",
    "        self.lname = 'Adaramola'\n",
    "        self.mname = 'Bukola'\n",
    "        \n",
    "    def multiply(self):\n",
    "        print(self.fname)"
   ]
  },
  {
   "cell_type": "code",
   "execution_count": 61,
   "id": "c3fc4897",
   "metadata": {},
   "outputs": [
    {
     "name": "stdout",
     "output_type": "stream",
     "text": [
      "You passed in 10 and 30\n"
     ]
    }
   ],
   "source": [
    "mth = Mathematics(10, 30)"
   ]
  },
  {
   "cell_type": "code",
   "execution_count": 59,
   "id": "a0c54ddb",
   "metadata": {},
   "outputs": [
    {
     "name": "stdout",
     "output_type": "stream",
     "text": [
      "Omolewa\n"
     ]
    }
   ],
   "source": [
    "mth."
   ]
  },
  {
   "cell_type": "code",
   "execution_count": 64,
   "id": "82db3da0",
   "metadata": {},
   "outputs": [],
   "source": [
    "class Mathematics:\n",
    "    # constructor\n",
    "    def __init__(self, a, b):\n",
    "        print(f'You passed in {a} and {b}')\n",
    "        self.x = a\n",
    "        self.y = b\n",
    "        \n",
    "    def multiply(self):\n",
    "        return self.x * self.y"
   ]
  },
  {
   "cell_type": "code",
   "execution_count": 65,
   "id": "22a0f5ff",
   "metadata": {},
   "outputs": [
    {
     "name": "stdout",
     "output_type": "stream",
     "text": [
      "You passed in 10 and 30\n"
     ]
    }
   ],
   "source": [
    "mth = Mathematics(10, 30)"
   ]
  },
  {
   "cell_type": "code",
   "execution_count": 66,
   "id": "960ba27a",
   "metadata": {},
   "outputs": [
    {
     "data": {
      "text/plain": [
       "300"
      ]
     },
     "execution_count": 66,
     "metadata": {},
     "output_type": "execute_result"
    }
   ],
   "source": [
    "mth.multiply()"
   ]
  },
  {
   "cell_type": "code",
   "execution_count": 67,
   "id": "16d3c7c3",
   "metadata": {},
   "outputs": [],
   "source": [
    "class Mathematics:\n",
    "    # constructor\n",
    "    def __init__(self, a, b):\n",
    "        print(f'You passed in {a} and {b}')\n",
    "        self.x = a\n",
    "        self.y = b\n",
    "        \n",
    "    def multiply(self):\n",
    "        return self.x * self.y\n",
    "    \n",
    "    def add(self):\n",
    "        return self.x + self.y\n",
    "    \n",
    "    def multiply_add(self):\n",
    "        return self.multiply() / self.add()"
   ]
  },
  {
   "cell_type": "code",
   "execution_count": 68,
   "id": "fb298b49",
   "metadata": {},
   "outputs": [
    {
     "name": "stdout",
     "output_type": "stream",
     "text": [
      "You passed in 10 and 30\n"
     ]
    }
   ],
   "source": [
    "mth = Mathematics(10, 30)"
   ]
  },
  {
   "cell_type": "code",
   "execution_count": 69,
   "id": "9bc8ded9",
   "metadata": {},
   "outputs": [
    {
     "data": {
      "text/plain": [
       "7.5"
      ]
     },
     "execution_count": 69,
     "metadata": {},
     "output_type": "execute_result"
    }
   ],
   "source": [
    "mth.multiply_add()"
   ]
  },
  {
   "cell_type": "code",
   "execution_count": 71,
   "id": "1aa97566",
   "metadata": {},
   "outputs": [],
   "source": [
    "class Mathematics:\n",
    "        \n",
    "    def multiply(self, x, y):\n",
    "        return x * y\n",
    "    \n",
    "    def add(self, x, y):\n",
    "        return x + y\n",
    "    \n",
    "    def division(self, x, y):\n",
    "        return x / y\n",
    "    \n",
    "    def modulo(self, x, y):\n",
    "        return x % y"
   ]
  },
  {
   "cell_type": "code",
   "execution_count": 72,
   "id": "43f21635",
   "metadata": {},
   "outputs": [],
   "source": [
    "mth = Mathematics()"
   ]
  },
  {
   "cell_type": "code",
   "execution_count": 73,
   "id": "85d4997a",
   "metadata": {},
   "outputs": [
    {
     "data": {
      "text/plain": [
       "9"
      ]
     },
     "execution_count": 73,
     "metadata": {},
     "output_type": "execute_result"
    }
   ],
   "source": [
    "mth.add(4, 5)"
   ]
  },
  {
   "cell_type": "code",
   "execution_count": 74,
   "id": "26160c7b",
   "metadata": {},
   "outputs": [
    {
     "data": {
      "text/plain": [
       "3"
      ]
     },
     "execution_count": 74,
     "metadata": {},
     "output_type": "execute_result"
    }
   ],
   "source": [
    "mth.modulo(19, 8)"
   ]
  },
  {
   "cell_type": "code",
   "execution_count": null,
   "id": "13bae436",
   "metadata": {},
   "outputs": [],
   "source": []
  }
 ],
 "metadata": {
  "kernelspec": {
   "display_name": "Python 3",
   "language": "python",
   "name": "python3"
  },
  "language_info": {
   "codemirror_mode": {
    "name": "ipython",
    "version": 3
   },
   "file_extension": ".py",
   "mimetype": "text/x-python",
   "name": "python",
   "nbconvert_exporter": "python",
   "pygments_lexer": "ipython3",
   "version": "3.8.8"
  }
 },
 "nbformat": 4,
 "nbformat_minor": 5
}
